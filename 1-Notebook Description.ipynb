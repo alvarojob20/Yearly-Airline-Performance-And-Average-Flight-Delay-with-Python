{
 "cells": [
  {
   "cell_type": "markdown",
   "metadata": {},
   "source": [
    "<center>\n",
    "    <img src=\"https://cf-courses-data.s3.us.cloud-object-storage.appdomain.cloud/IBMDeveloperSkillsNetwork-DV0101EN-SkillsNetwork/labs/Module%204/logo.png\" width=\"300\" alt=\"cognitiveclass.ai logo\" />\n",
    "</center>\n"
   ]
  },
  {
   "cell_type": "markdown",
   "metadata": {},
   "source": [
    "## Story\n",
    "\n",
    "As a data analyst, we have been given a task to monitor and report US domestic airline flights performance. Goal is to analyze the performance of the reporting airline to improve fight reliability thereby improving customer relaibility.\n",
    "\n",
    "Below are the key report items,\n",
    "\n",
    "*   Yearly airline performance report \n",
    "*   Yearly average flight delay statistics\n",
    "\n",
    "*NOTE:* Year range is between 2005 and 2020.\n",
    "\n",
    "## Components of the report items\n",
    "\n",
    "1.  Yearly airline performance report\n",
    "\n",
    "    For the chosen year provide,\n",
    "\n",
    "    *   Number of flights under different cancellation categories using bar chart.\n",
    "    *   Average flight time by reporting airline using line chart.\n",
    "    *   Percentage of diverted airport landings per reporting airline using pie chart.\n",
    "    *   Number of flights flying from each state using choropleth map.\n",
    "    *   Number of flights flying to each state from each reporting airline using treemap chart.\n",
    "2.  Yearly average flight delay statistics\n",
    "\n",
    "    For the chosen year provide,\n",
    "\n",
    "    *   Monthly average carrier delay by reporting airline for the given year.\n",
    "    *   Monthly average weather delay by reporting airline for the given year.\n",
    "    *   Monthly average natioanl air system delay by reporting airline for the given year.\n",
    "    *   Monthly average security delay by reporting airline for the given year.\n",
    "    *   Monthly average late aircraft delay by reporting airline for the given year.\n",
    "\n",
    "## Expected Layout\n",
    "\n",
    "<center>\n",
    "    <img src=\"https://cf-courses-data.s3.us.cloud-object-storage.appdomain.cloud/IBMDeveloperSkillsNetwork-DV0101EN-SkillsNetwork/labs/Module%205/images/Layout.png\" width=\"2000\" alt=\"cognitiveclass.ai logo\"/>\n",
    "</center>\n"
   ]
  },
  {
   "cell_type": "markdown",
   "metadata": {},
   "source": [
    "## Requirements to create the dashboard\n",
    "\n",
    "*   Create dropdown using the reference [here](https://dash.plotly.com/dash-core-components/dropdown?utm_medium=Exinfluencer&utm_source=Exinfluencer&utm_content=000026UJ&utm_term=10006555&utm_id=NA-SkillsNetwork-Channel-SkillsNetworkCoursesIBMDeveloperSkillsNetworkDV0101ENSkillsNetwork20297740-2022-01-01)\n",
    "*   Create two HTML divisions that can accomodate two components (in one division) side by side. One is HTML heading and the other one is dropdown.\n",
    "*   Add graph components.\n",
    "*   Callback function to compute data, create graph and return to the layout.\n"
   ]
  },
  {
   "cell_type": "markdown",
   "metadata": {},
   "source": [
    "## Review\n",
    "\n",
    "Search/Look for review to know how commands are used and computations are carried out. There are 7 review items.\n",
    "\n",
    "*   Clear the layout and do not display exception till callback gets executed.\n",
    "*   Dropdown creation.\n",
    "*   Observe how we add an empty division and providing an id that will be updated during callback.\n",
    "*   Holding output state till user enters all the form information. In this case, it will be chart type and year.\n",
    "*   Number of flights flying from each state using choropleth\n",
    "*   Return dcc.Graph component to the empty division\n",
    "*   This covers chart type 2 and we have completed this exercise under Flight Delay Time Statistics Dashboard section\n",
    "\n",
    "## Tasks\n",
    "\n",
    "### Task 1\n",
    "\n",
    "Reference [link](https://dash.plotly.com/dash-html-components/h1?utm_medium=Exinfluencer&utm_source=Exinfluencer&utm_content=000026UJ&utm_term=10006555&utm_id=NA-SkillsNetwork-Channel-SkillsNetworkCoursesIBMDeveloperSkillsNetworkDV0101ENSkillsNetwork20297740-2022-01-01)\n",
    "\n",
    "*   Provide title of the dash application title as `US Domestic Airline Flights Performance`.\n",
    "*   Make the heading center aligned, set color as `#503D36`, and font size as `24`.\n",
    "    Sample: style={'textAlign': 'left', 'color': '#000000', 'font-size': 0}\n",
    "\n",
    "### Task 2\n",
    "\n",
    "Reference [link](https://dash.plotly.com/dash-core-components/dropdown?utm_medium=Exinfluencer&utm_source=Exinfluencer&utm_content=000026UJ&utm_term=10006555&utm_id=NA-SkillsNetwork-Channel-SkillsNetworkCoursesIBMDeveloperSkillsNetworkDV0101ENSkillsNetwork20297740-2022-01-01)\n",
    "\n",
    "Create a dropdown menu and add two chart options to it.\n",
    "\n",
    "Parameters to be updated in `dcc.Dropdown`:\n",
    "\n",
    "*   Set `id` as `input-type`.\n",
    "*   Set `options` to list containing dictionaries with key as `label` and user provided value for labels in `value`.\n",
    "\n",
    "    *1st dictionary*\n",
    "\n",
    "    *   label: Yearly Airline Performance Report\n",
    "    *   value: OPT1\n",
    "\n",
    "    *2nd dictionary*\n",
    "\n",
    "    *   label: Yearly Airline Delay Report\n",
    "    *   value: OPT2\n",
    "*   Set placeholder to `Select a report type`.\n",
    "*   Set width as `80%`, padding as `3px`, font size as `20px`, text-align-last as `center` inside style parameter dictionary.\n",
    "\n",
    "\n",
    "### Task 3\n",
    "\n",
    "Add a division with two empty divisions inside. For reference, we can observe how code under `REVIEW` has been structured.\n",
    "\n",
    "Provide division ids as `plot4` and `plot5`. Display style as `flex`.\n",
    "\n",
    "\n",
    "### Task 4\n",
    "\n",
    "Our layout has 5 outputs so we need to create 5 output components. Review how input components are constructured to fill in for output component.\n",
    "\n",
    "It is a list with 5 output parameters with component id and property. Here, the component property will be `children` as we have created empty division and passing in `dcc.Graph` after computation.\n",
    "\n",
    "Component ids will be `plot1` , `plot2`, `plot2`, `plot4`, and `plot5`.\n",
    "\n",
    "\n",
    "### Task 5\n",
    "\n",
    "Deals with creating line plots using returned dataframes from the above step using `plotly.express`. Link for reference is [here](https://plotly.com/python/line-charts/?utm_medium=Exinfluencer&utm_source=Exinfluencer&utm_content=000026UJ&utm_term=10006555&utm_id=NA-SkillsNetwork-Channel-SkillsNetworkCoursesIBMDeveloperSkillsNetworkDV0101ENSkillsNetwork20297740-2022-01-01)\n",
    "\n",
    "Average flight time by reporting airline\n",
    "\n",
    "*   Set figure name as `line_fig`, data as `line_data`, x as `Month`, y as `AirTime`, color as `Reporting_Airline` and `title` as `Average monthly flight time (minutes) by airline`.\n",
    "\n",
    "\n",
    "\n",
    "### Task 6\n",
    "\n",
    "Deals with creating treemap plot using returned dataframes from the above step using `plotly.express`. Link for reference is [here](https://plotly.com/python/treemaps/?utm_medium=Exinfluencer&utm_source=Exinfluencer&utm_content=000026UJ&utm_term=10006555&utm_id=NA-SkillsNetwork-Channel-SkillsNetworkCoursesIBMDeveloperSkillsNetworkDV0101ENSkillsNetwork20297740-2022-01-01)\n",
    "\n",
    "Number of flights flying to each state from each reporting airline\n",
    "\n",
    "*   Set figure name as `tree_fig`, data as `tree_data`, path as `['DestState', 'Reporting_Airline']`, values as `Flights`, colors as `Flights`, color_continuous_scale as `'RdBu'`, and title as `'Flight count by airline to destination state'`\n"
   ]
  },
  {
   "cell_type": "markdown",
   "metadata": {},
   "source": [
    "\n",
    "More information about the libraries can be found [here](https://dash.plotly.com/?utm_medium=Exinfluencer&utm_source=Exinfluencer&utm_content=000026UJ&utm_term=10006555&utm_id=NA-SkillsNetwork-Channel-SkillsNetworkCoursesIBMDeveloperSkillsNetworkDV0101ENSkillsNetwork20297740-2022-01-01)\n"
   ]
  },
  {
   "cell_type": "markdown",
   "metadata": {},
   "source": [
    "## Author\n",
    "\n",
    "[Saishruthi Swaminathan](https://www.linkedin.com/in/saishruthi-swaminathan/?utm_medium=Exinfluencer&utm_source=Exinfluencer&utm_content=000026UJ&utm_term=10006555&utm_id=NA-SkillsNetwork-Channel-SkillsNetworkCoursesIBMDeveloperSkillsNetworkDV0101ENSkillsNetwork20297740-2022-01-01)\n"
   ]
  },
  {
   "cell_type": "markdown",
   "metadata": {},
   "source": [
    "## Changelog\n",
    "\n",
    "| Date       | Version | Changed by | Change Description                   |\n",
    "| ---------- | ------- | ---------- | ------------------------------------ |\n",
    "| 12-18-2020 | 1.0     | Nayef      | Added dataset link and upload to Git |\n"
   ]
  },
  {
   "cell_type": "markdown",
   "metadata": {},
   "source": [
    "## <h3 align=\"center\"> © IBM Corporation 2020. All rights reserved. <h3/>\n"
   ]
  },
  {
   "cell_type": "code",
   "execution_count": null,
   "metadata": {},
   "outputs": [],
   "source": []
  }
 ],
 "metadata": {
  "kernelspec": {
   "display_name": "Python 3 (ipykernel)",
   "language": "python",
   "name": "python3"
  },
  "language_info": {
   "codemirror_mode": {
    "name": "ipython",
    "version": 3
   },
   "file_extension": ".py",
   "mimetype": "text/x-python",
   "name": "python",
   "nbconvert_exporter": "python",
   "pygments_lexer": "ipython3",
   "version": "3.9.7"
  },
  "vscode": {
   "interpreter": {
    "hash": "83ef6e50cc29290c96a43b2b28e951fa9950334aea30833e486848d425c5f395"
   }
  }
 },
 "nbformat": 4,
 "nbformat_minor": 4
}
